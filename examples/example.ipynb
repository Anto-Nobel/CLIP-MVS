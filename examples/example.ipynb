{
 "cells": [
  {
   "cell_type": "code",
   "execution_count": null,
   "metadata": {},
   "outputs": [],
   "source": [
    "import os\n",
    "from concurrent.futures import ThreadPoolExecutor\n",
    "from clip_video_processor import VideoDataLoader, CLIPEmbeddingRetriever, QdrantHandler\n",
    "from PIL import Image"
   ]
  },
  {
   "cell_type": "code",
   "execution_count": null,
   "metadata": {},
   "outputs": [],
   "source": [
    "def process_video(video_path, retriever, qdrant_handler, batch_size=5, interval=10):\n",
    "    \"\"\"\n",
    "    Process a single video file to extract and store CLIP embeddings.\n",
    "\n",
    "    Args:\n",
    "        video_path (str): Path to the video file.\n",
    "        retriever (CLIPEmbeddingRetriever): The CLIP retriever instance.\n",
    "        qdrant_handler (QdrantHandler): The Qdrant handler instance.\n",
    "        batch_size (int): Number of frames to fetch in each batch.\n",
    "        interval (int): Interval between frames to fetch.\n",
    "    \"\"\"\n",
    "    video_loader = VideoDataLoader(video_path, batch_size, interval=interval)\n",
    "    for frames, timestamps in video_loader:\n",
    "        image_embeddings = retriever.get_CLIP_vision_embedding(frames)\n",
    "        metadata = [{\"timestamp\": ts} for ts in timestamps]\n",
    "        qdrant_handler.store_embedding(image_embeddings, metadata)\n"
   ]
  },
  {
   "cell_type": "code",
   "execution_count": null,
   "metadata": {},
   "outputs": [],
   "source": [
    "# Example usage:\n",
    "video_paths = ['path_to_your_video1.mp4', 'path_to_your_video2.mp4']  # Add more video paths as needed\n",
    "retriever = CLIPEmbeddingRetriever()\n",
    "qdrant_handler = QdrantHandler(config_path='config.json')  # Specify the path to your config file\n"
   ]
  },
  {
   "cell_type": "code",
   "execution_count": null,
   "metadata": {},
   "outputs": [],
   "source": [
    "# Use ThreadPoolExecutor to process multiple videos concurrently\n",
    "with ThreadPoolExecutor() as executor:\n",
    "    futures = [executor.submit(process_video, video_path, retriever, qdrant_handler) for video_path in video_paths]\n",
    "    for future in futures:\n",
    "        future.result()  # Wait for all futures to complete\n"
   ]
  },
  {
   "cell_type": "code",
   "execution_count": null,
   "metadata": {},
   "outputs": [],
   "source": [
    "# Query example:\n",
    "sample_frame = Image.open('path_to_sample_frame.jpg')  # Replace with your sample frame\n",
    "sample_embedding = retriever.get_CLIP_vision_embedding([sample_frame])\n",
    "results = qdrant_handler.query_embedding(sample_embedding)\n",
    "print(\"Query Results:\", results)\n",
    "\n"
   ]
  },
  {
   "cell_type": "code",
   "execution_count": null,
   "metadata": {},
   "outputs": [],
   "source": [
    "# Visualize the retrieved frames\n",
    "video_loader = VideoDataLoader(video_paths[0])  # You can change this to the relevant video path\n",
    "retriever.visualize_retrieved_frames(video_loader, results)\n",
    "\n"
   ]
  },
  {
   "cell_type": "code",
   "execution_count": null,
   "metadata": {},
   "outputs": [],
   "source": [
    "# Close the Qdrant connection\n",
    "qdrant_handler.close()\n"
   ]
  }
 ],
 "metadata": {
  "language_info": {
   "name": "python"
  },
  "orig_nbformat": 4
 },
 "nbformat": 4,
 "nbformat_minor": 2
}
